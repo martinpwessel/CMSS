{
 "metadata": {
  "kernelspec": {
   "language": "python",
   "display_name": "Python 3",
   "name": "python3"
  },
  "language_info": {
   "name": "python",
   "version": "3.7.12",
   "mimetype": "text/x-python",
   "codemirror_mode": {
    "name": "ipython",
    "version": 3
   },
   "pygments_lexer": "ipython3",
   "nbconvert_exporter": "python",
   "file_extension": ".py"
  }
 },
 "nbformat_minor": 4,
 "nbformat": 4,
 "cells": [
  {
   "cell_type": "code",
   "source": [
    "import numpy as np \n",
    "import pandas as pd \n",
    "from scipy.sparse import csr_matrix\n",
    "import random\n",
    "import math\n",
    "import tensorflow as tf\n",
    "from copy import deepcopy\n",
    "import time\n",
    "import wandb"
   ],
   "metadata": {
    "_uuid": "8f2839f25d086af736a60e9eeb907d3b93b6e0e5",
    "_cell_guid": "b1076dfc-b9ad-4769-8c92-a6c4dae69d19",
    "execution": {
     "iopub.status.busy": "2023-01-09T14:12:39.039909Z",
     "iopub.execute_input": "2023-01-09T14:12:39.040463Z",
     "iopub.status.idle": "2023-01-09T14:12:46.400857Z",
     "shell.execute_reply.started": "2023-01-09T14:12:39.040362Z",
     "shell.execute_reply": "2023-01-09T14:12:46.399139Z"
    },
    "trusted": true
   },
   "execution_count": 1,
   "outputs": []
  },
  {
   "cell_type": "code",
   "source": [
    "wandb.login(key = \"\", relogin = True) # enter wandb key here\n",
    "wandb.init(project=\"Agent_based_health_care_simulation\", reinit=True)\n",
    "wandb.run.name = \"Simulation-\" + str(time.time())"
   ],
   "metadata": {
    "execution": {
     "iopub.status.busy": "2023-01-09T14:12:59.787454Z",
     "iopub.execute_input": "2023-01-09T14:12:59.787925Z",
     "iopub.status.idle": "2023-01-09T14:13:08.216646Z",
     "shell.execute_reply.started": "2023-01-09T14:12:59.787888Z",
     "shell.execute_reply": "2023-01-09T14:13:08.215253Z"
    },
    "trusted": true
   },
   "execution_count": 2,
   "outputs": [
    {
     "name": "stderr",
     "text": "\u001B[34m\u001B[1mwandb\u001B[0m: \u001B[33mWARNING\u001B[0m If you're specifying your api key in code, ensure this code is not shared publicly.\n\u001B[34m\u001B[1mwandb\u001B[0m: \u001B[33mWARNING\u001B[0m Consider setting the WANDB_API_KEY environment variable, or running `wandb login` from the command line.\n\u001B[34m\u001B[1mwandb\u001B[0m: Appending key for api.wandb.ai to your netrc file: /root/.netrc\n\u001B[34m\u001B[1mwandb\u001B[0m: Currently logged in as: \u001B[33mmartinwessel\u001B[0m. Use \u001B[1m`wandb login --relogin`\u001B[0m to force relogin\n",
     "output_type": "stream"
    },
    {
     "output_type": "display_data",
     "data": {
      "text/plain": "<IPython.core.display.HTML object>",
      "text/html": "wandb version 0.13.7 is available!  To upgrade, please run:\n $ pip install wandb --upgrade"
     },
     "metadata": {}
    },
    {
     "output_type": "display_data",
     "data": {
      "text/plain": "<IPython.core.display.HTML object>",
      "text/html": "Tracking run with wandb version 0.12.21"
     },
     "metadata": {}
    },
    {
     "output_type": "display_data",
     "data": {
      "text/plain": "<IPython.core.display.HTML object>",
      "text/html": "Run data is saved locally in <code>/kaggle/working/wandb/run-20230109_141301-3cnwhcp9</code>"
     },
     "metadata": {}
    },
    {
     "output_type": "display_data",
     "data": {
      "text/plain": "<IPython.core.display.HTML object>",
      "text/html": "Syncing run <strong><a href=\"https://wandb.ai/martinwessel/Agent_based_health_care_simulation/runs/3cnwhcp9\" target=\"_blank\">olive-dragon-5</a></strong> to <a href=\"https://wandb.ai/martinwessel/Agent_based_health_care_simulation\" target=\"_blank\">Weights & Biases</a> (<a href=\"https://wandb.me/run\" target=\"_blank\">docs</a>)<br/>"
     },
     "metadata": {}
    }
   ]
  },
  {
   "cell_type": "code",
   "source": "class HealthCareSimulation:\n    '''\n    Overall score:\n    Patient Sharing: 30%\n    Distance: 20%\n    Contact Availability: 10%\n    Opening Hours: 10%\n    Reputation: 10%\n    Random: 30%\n    '''\n    def __init__(self, s=10, capacity= 0.2):\n        \n        data = np.load('/kaggle/input/demo-data/adj_all_doctors.npz')        # data contains x = [1,2,3,4,5]\n        lst = {}\n        for key in data.keys():\n            lst[key] = data[key]\n            \n        matrix = csr_matrix((lst['data'], lst['indices'], lst['indptr']))\n        self.shared_patients = matrix.toarray()\n        self.diagonal = deepcopy(self.shared_patients.diagonal())\n        self.df_capacity = pd.read_csv('/kaggle/input/demo-data/matched_and_imputed_doctors_with_capacity_threshold0.9.csv')\n        # Distance \n        self.distance = np.random.randint(20, size=(200, 200))\n        self.s = s # Lost patient Threshold\n        self.capacity = capacity\n    def setup(self):\n        doctors = []\n        for index, row in self.df_capacity.iterrows():\n            r = random.randint(0,10) * 0.01\n            doctors.append({'plz': row[0], 'hours': row[4], 'capacity': self.diagonal[index] + math.floor(self.diagonal[index]*self.capacity), 'rating': random.randint(0,4), 'information': random.randint(0,4), 'patients': [], 'status': True})\n\n        total_citizens = self.diagonal.sum()\n        print(f'Total amount of citizens: {total_citizens}')\n        patient = 0\n        for index, d in enumerate(doctors):\n            d['patients'].extend([ele for ele in range(patient, patient + self.diagonal[index])])\n            patient += self.diagonal[index]\n            if len(d['patients']) > d['capacity']:\n                print(f'Overflow Doctor {index}')\n        return doctors, total_citizens\n              \n    def moving_prob(self, doctor, doctors, lst):\n        # Distance\n        d_dist = self.distance[doctor]\n        prob_dist = np.array([20]*200) - ((d_dist/30)*20)\n        # Rating and Information and opening hours\n        opening = []\n        rat_inf_prob = []\n        for doc in doctors:\n            ri_prob = doc['rating'] * 2.5 + doc['information'] * 2.5\n            rat_inf_prob.append(ri_prob)\n            opening.append(doc['hours'])\n        opening_prob = [(ele / max(opening))* 10 for ele in opening]\n        prob_dist += rat_inf_prob\n        prob_dist += opening_prob\n        # Patient sharing network\n        shared = deepcopy(self.shared_patients[doctor])\n        shared[doctor] = 0\n        shared_dist = (shared / max(shared)) * 30\n        prob_dist += shared_dist\n        # Random portion\n        rand_dist = np.random.randint(30, size=(200))\n        prob_dist += rand_dist\n        prob_dist[doctor] = 0 # Don't want the patient to go back to the original doctor\n        for i, d in enumerate(doctors):\n            if d['status'] == False:\n                prob_dist[i] = 0\n        for i in lst:\n            prob_dist[i] = 0\n        probabilities = tf.nn.softmax(prob_dist).numpy()\n        return probabilities\n    \n    def measure_capacity(self, doctors):\n        doc = pd.DataFrame(doctors).sum()\n        cap = doc[2]\n        pat = len(doc[5])\n        print(f'Used capacity currently: {pat/cap}')\n        return pat/cap\n\n              \n    def main(self, steps):\n        doctors, total_citizens = self.setup()\n        # Step in the simulation:\n        lost_patients = 0\n        #Take out doctor:\n        curr_searching = []\n\n        for step in range(steps):\n            capa = self.measure_capacity(doctors)\n            wandb.log({\"Occupied_capacity\": capa, \"Step\": step})\n            while True:\n                to_doctor = random.randint(0,199)\n                print(f'STEP {step} Doctor {to_doctor} taken out.')\n                if doctors[to_doctor]['status'] == True:\n                    doctors[to_doctor]['status'] == False\n                    break\n            wo_patients = doctors[to_doctor]['patients'] \n            for i in wo_patients:\n                curr_searching.append((i, to_doctor, []))\n            print(f'{len(curr_searching)} patients are looking for a doctor.')\n            wandb.log({\"Searching_after_doctor_taken_out\": len(curr_searching), \"Step\": step})\n            # Searching Mechanism\n            successful = []\n            for index, patient in enumerate(curr_searching):\n                weights = self.moving_prob(patient[1], doctors, patient[2])\n                doctor_try = random.choices(range(200), weights=weights, k=1)[0]\n                # Check if doctor has capacity\n                if len(doctors[doctor_try]['patients']) < doctors[doctor_try]['capacity']:\n                    doctors[doctor_try]['patients'].append(patient[0])\n                    successful.append(index)\n                    #print(patient, doctor_try)\n                else:\n                    patient[2].append(doctor_try)\n            for i in sorted(successful, reverse=True):\n                curr_searching.pop(i)\n            print(f\"{len(curr_searching)} are still searching after this step\")\n            wandb.log({\"Still_searching\": len(curr_searching), \"Step\": step})\n            # Search for Lost Patients:\n            l_i = []\n            for i, j in enumerate(curr_searching):\n                if len(j[2]) >= self.s:\n                    lost_patients += 1\n                    l_i.append(i)\n            for i in sorted(l_i, reverse=True):\n                curr_searching.pop(i)\n            lp_share = lost_patients / total_citizens\n            print(f\"Currently Lost Patients: {lost_patients}. {lp_share} of all patients.\")\n            wandb.log({\"Lost_Patients\": lost_patients, \"Step\": step})\n            wandb.log({\"Lost_Patients_Share\": lp_share, \"Step\": step})\n    ",
   "metadata": {
    "execution": {
     "iopub.status.busy": "2023-01-06T18:25:30.460294Z",
     "iopub.execute_input": "2023-01-06T18:25:30.461002Z",
     "iopub.status.idle": "2023-01-06T18:25:30.499898Z",
     "shell.execute_reply.started": "2023-01-06T18:25:30.460942Z",
     "shell.execute_reply": "2023-01-06T18:25:30.498329Z"
    },
    "trusted": true
   },
   "execution_count": null,
   "outputs": []
  },
  {
   "cell_type": "code",
   "source": "simulation = HealthCareSimulation()\nsimulation.main(200)\nwandb.finish()",
   "metadata": {
    "execution": {
     "iopub.status.busy": "2023-01-06T18:25:39.644095Z",
     "iopub.execute_input": "2023-01-06T18:25:39.644578Z",
     "iopub.status.idle": "2023-01-06T20:05:16.362941Z",
     "shell.execute_reply.started": "2023-01-06T18:25:39.644539Z",
     "shell.execute_reply": "2023-01-06T20:05:16.361503Z"
    },
    "trusted": true
   },
   "execution_count": null,
   "outputs": []
  }
 ]
}